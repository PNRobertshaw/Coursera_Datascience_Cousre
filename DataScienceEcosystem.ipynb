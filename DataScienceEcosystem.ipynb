{
 "cells": [
  {
   "cell_type": "markdown",
   "id": "6246ba70-e5f0-4671-b487-e9de1a185690",
   "metadata": {},
   "source": [
    "# Data Science Tools and Ecosystem #"
   ]
  },
  {
   "cell_type": "markdown",
   "id": "d96976ce-97e3-4920-bc1f-d7f52720de48",
   "metadata": {},
   "source": [
    "In this notebook, Data Science Tools and Ecosystem are summarized."
   ]
  },
  {
   "cell_type": "markdown",
   "id": "e9ce8196-322e-40d8-812f-b62bc7b1dc65",
   "metadata": {},
   "source": [
    "## Author: ##\n",
    "Noel Robertshaw"
   ]
  },
  {
   "cell_type": "markdown",
   "id": "c204c3fb-5b10-4dd1-b30e-b726ef093b97",
   "metadata": {},
   "source": [
    "**Objectives:**\n",
    "- list popular languages\n",
    "- list popular libraries\n",
    "- list popular tools"
   ]
  },
  {
   "cell_type": "markdown",
   "id": "97d6b1c8-518f-46f9-99d3-9363c67e53d6",
   "metadata": {},
   "source": [
    "Some of the popular languages that Data Scientists use are:\n",
    "\n",
    "1) Python\n",
    "2) R\n",
    "3) C++"
   ]
  },
  {
   "cell_type": "markdown",
   "id": "293f6354-f703-4479-b87f-5afc1ee9ed41",
   "metadata": {},
   "source": [
    "Some of the commonly used libraries used by Data Scientists include:\n",
    "\n",
    "1) Pandas\n",
    "2) Numpy\n",
    "3) Scikit"
   ]
  },
  {
   "cell_type": "markdown",
   "id": "62ea17d1-b182-455b-8af8-9d1dddc85974",
   "metadata": {},
   "source": [
    "| Data Science Tools |\n",
    "|--------------------|\n",
    "| Jupyter Notebook |\n",
    "| Juputer Lab |\n",
    "| RStudio |"
   ]
  },
  {
   "cell_type": "markdown",
   "id": "1a6c9e5b-b416-40eb-9b42-e0d343abb370",
   "metadata": {},
   "source": [
    "### Below are a few examples of evaluating arithmetic expressions in Python ###\n",
    "\n",
    "x + y , x - y , x * y , x / y \n"
   ]
  },
  {
   "cell_type": "code",
   "execution_count": 7,
   "id": "c04dd7db-6628-4eb5-9d90-b35605715564",
   "metadata": {},
   "outputs": [
    {
     "data": {
      "text/plain": [
       "17"
      ]
     },
     "execution_count": 7,
     "metadata": {},
     "output_type": "execute_result"
    }
   ],
   "source": [
    "#This a simple arithmetic expression to mutiply then add integers\n",
    "(3*4)+5"
   ]
  },
  {
   "cell_type": "code",
   "execution_count": 8,
   "id": "a7837de8-48fa-4d76-93c3-7eab006809ec",
   "metadata": {},
   "outputs": [
    {
     "data": {
      "text/plain": [
       "3.3333333333333335"
      ]
     },
     "execution_count": 8,
     "metadata": {},
     "output_type": "execute_result"
    }
   ],
   "source": [
    "# This will convert 200 minutes to hours by diving by 60\n",
    "minutes = 200\n",
    "hours = minutes / 60\n",
    "hours"
   ]
  },
  {
   "cell_type": "code",
   "execution_count": null,
   "id": "cfd129ba-e214-4444-8f89-7fa35b8e6f59",
   "metadata": {},
   "outputs": [],
   "source": []
  }
 ],
 "metadata": {
  "kernelspec": {
   "display_name": "Python 3 (ipykernel)",
   "language": "python",
   "name": "python3"
  },
  "language_info": {
   "codemirror_mode": {
    "name": "ipython",
    "version": 3
   },
   "file_extension": ".py",
   "mimetype": "text/x-python",
   "name": "python",
   "nbconvert_exporter": "python",
   "pygments_lexer": "ipython3",
   "version": "3.13.5"
  }
 },
 "nbformat": 4,
 "nbformat_minor": 5
}
